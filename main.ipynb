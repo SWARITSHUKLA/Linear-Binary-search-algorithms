{
 "cells": [
  {
   "cell_type": "code",
   "execution_count": 14,
   "metadata": {},
   "outputs": [],
   "source": [
    "#linear search - here we just use brute force\n",
    "#and compare the values of the given item with every element\n",
    "#Linear search will work fine in unsorted array \n",
    "def linear_search(arr,item):\n",
    "    for i in range(len(arr)):\n",
    "        if arr[i] == item:\n",
    "            return i\n",
    "    return \"NotFound\""
   ]
  },
  {
   "cell_type": "code",
   "execution_count": 32,
   "metadata": {},
   "outputs": [
    {
     "data": {
      "text/plain": [
       "'NotFound'"
      ]
     },
     "execution_count": 32,
     "metadata": {},
     "output_type": "execute_result"
    }
   ],
   "source": [
    "arr = [1,2,3,4,5,6,7,8,9]\n",
    "linear_search(arr,8678)\n",
    "#the time complexity for linear search is O(n)"
   ]
  },
  {
   "cell_type": "code",
   "execution_count": 37,
   "metadata": {},
   "outputs": [],
   "source": [
    "#binary_search only works on an sorted array\n",
    "#here we cut the size of array by half every time we search\n",
    "def Binary_search(arr,lowest_index,highest_index,item):\n",
    "    if lowest_index <= highest_index:\n",
    "        mid = (lowest_index+highest_index)//2\n",
    "        if arr[mid] == item:\n",
    "            return mid\n",
    "        elif arr[mid]>item:\n",
    "            return Binary_search(arr,lowest_index,mid-1,item)\n",
    "        else:\n",
    "            return Binary_search(arr,mid+1,highest_index,item)\n",
    "        \n",
    "    else:\n",
    "        return \"NotFound\""
   ]
  },
  {
   "cell_type": "code",
   "execution_count": 38,
   "metadata": {},
   "outputs": [
    {
     "data": {
      "text/plain": [
       "2"
      ]
     },
     "execution_count": 38,
     "metadata": {},
     "output_type": "execute_result"
    }
   ],
   "source": [
    "Binary_search(arr,0,len(arr)-1,3)"
   ]
  },
  {
   "cell_type": "code",
   "execution_count": null,
   "metadata": {},
   "outputs": [],
   "source": []
  }
 ],
 "metadata": {
  "kernelspec": {
   "display_name": "Python 3",
   "language": "python",
   "name": "python3"
  },
  "language_info": {
   "codemirror_mode": {
    "name": "ipython",
    "version": 3
   },
   "file_extension": ".py",
   "mimetype": "text/x-python",
   "name": "python",
   "nbconvert_exporter": "python",
   "pygments_lexer": "ipython3",
   "version": "3.13.0"
  }
 },
 "nbformat": 4,
 "nbformat_minor": 2
}
